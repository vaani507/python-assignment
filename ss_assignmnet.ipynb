{
  "nbformat": 4,
  "nbformat_minor": 0,
  "metadata": {
    "colab": {
      "provenance": [],
      "authorship_tag": "ABX9TyNx2r9oASk6nHoyoiMxr0GU",
      "include_colab_link": true
    },
    "kernelspec": {
      "name": "python3",
      "display_name": "Python 3"
    },
    "language_info": {
      "name": "python"
    }
  },
  "cells": [
    {
      "cell_type": "markdown",
      "metadata": {
        "id": "view-in-github",
        "colab_type": "text"
      },
      "source": [
        "<a href=\"https://colab.research.google.com/github/vaani507/python-assignment/blob/main/ss_assignmnet.ipynb\" target=\"_parent\"><img src=\"https://colab.research.google.com/assets/colab-badge.svg\" alt=\"Open In Colab\"/></a>"
      ]
    },
    {
      "cell_type": "code",
      "execution_count": null,
      "metadata": {
        "id": "cuYUyQ00I4Tx"
      },
      "outputs": [],
      "source": []
    },
    {
      "cell_type": "markdown",
      "source": [
        "# **Q1) L is defined as L=[11, 12, 13, 14]**\n"
      ],
      "metadata": {
        "id": "gpvOOzDPJrmz"
      }
    },
    {
      "cell_type": "markdown",
      "source": [
        "i)WAP to add 50 and 60 to L\n"
      ],
      "metadata": {
        "id": "eRbz8r6fJ-gu"
      }
    },
    {
      "cell_type": "code",
      "source": [
        "L = [11,12,13,14]\n",
        "L.append(50)\n",
        "print(L)\n"
      ],
      "metadata": {
        "colab": {
          "base_uri": "https://localhost:8080/"
        },
        "id": "A-NF_9ncKFzl",
        "outputId": "39de7563-bfce-4b88-ea8e-e1b1f15225e8"
      },
      "execution_count": null,
      "outputs": [
        {
          "output_type": "stream",
          "name": "stdout",
          "text": [
            "[11, 12, 13, 14, 50]\n"
          ]
        }
      ]
    },
    {
      "cell_type": "markdown",
      "source": [
        "ii)WAP to remove 11 andd 13 from L"
      ],
      "metadata": {
        "id": "tNY-BrGpLlpu"
      }
    },
    {
      "cell_type": "code",
      "source": [
        "L = [11,12,13,14]\n",
        "del L[0],L[1]\n",
        "print(L)"
      ],
      "metadata": {
        "colab": {
          "base_uri": "https://localhost:8080/"
        },
        "id": "RdzDMdFhLtGW",
        "outputId": "f9826966-c746-4767-9de4-cfe2e318b6df"
      },
      "execution_count": null,
      "outputs": [
        {
          "output_type": "stream",
          "name": "stdout",
          "text": [
            "[12, 14]\n"
          ]
        }
      ]
    },
    {
      "cell_type": "markdown",
      "source": [
        "iii)WAP to sort L ascending\n"
      ],
      "metadata": {
        "id": "oDkjhZY-MOAy"
      }
    },
    {
      "cell_type": "code",
      "source": [
        "L = [11,12,13,14]\n",
        "L.sort()\n",
        "print(L)\n"
      ],
      "metadata": {
        "colab": {
          "base_uri": "https://localhost:8080/"
        },
        "id": "aJlZk699Mq54",
        "outputId": "a17fec88-5c7b-4c48-9b28-87fa74461724"
      },
      "execution_count": null,
      "outputs": [
        {
          "output_type": "stream",
          "name": "stdout",
          "text": [
            "[11, 12, 13, 14]\n"
          ]
        }
      ]
    },
    {
      "cell_type": "markdown",
      "source": [
        "iv)WAP to sort L descending"
      ],
      "metadata": {
        "id": "mCtgFY-aM40h"
      }
    },
    {
      "cell_type": "code",
      "source": [
        "L = [11,12,13,14]\n",
        "L.sort(reverse=True)\n",
        "print(L)"
      ],
      "metadata": {
        "colab": {
          "base_uri": "https://localhost:8080/"
        },
        "id": "_L9DETmfM-kT",
        "outputId": "4312a8f8-fa7d-4f1f-f645-b19d9f0d65dc"
      },
      "execution_count": null,
      "outputs": [
        {
          "output_type": "stream",
          "name": "stdout",
          "text": [
            "[14, 13, 12, 11]\n"
          ]
        }
      ]
    },
    {
      "cell_type": "markdown",
      "source": [
        "v)WAP to search for 13 in L"
      ],
      "metadata": {
        "id": "Wk_DMtNZU5KF"
      }
    },
    {
      "cell_type": "code",
      "source": [
        "L = [11,12,13,14]\n",
        "try:\n",
        "  n = L.index(13)\n",
        "  print(n)\n",
        "except:\n",
        "  print(\"13 is not present in list\")"
      ],
      "metadata": {
        "colab": {
          "base_uri": "https://localhost:8080/"
        },
        "id": "kzNv9RzqU99E",
        "outputId": "fa1bd6df-8f41-4ab6-b766-4d32f5953ade"
      },
      "execution_count": null,
      "outputs": [
        {
          "output_type": "stream",
          "name": "stdout",
          "text": [
            "2\n"
          ]
        }
      ]
    },
    {
      "cell_type": "markdown",
      "source": [
        "vi)WAP to count number of elements in L"
      ],
      "metadata": {
        "id": "wyLJsnr7W8zQ"
      }
    },
    {
      "cell_type": "code",
      "source": [
        "L = [11,12,13,14]\n",
        "print(len(L))"
      ],
      "metadata": {
        "colab": {
          "base_uri": "https://localhost:8080/"
        },
        "id": "kIdj25NVXtyB",
        "outputId": "0a1bba01-511e-4b5d-d0b3-760a706406ce"
      },
      "execution_count": null,
      "outputs": [
        {
          "output_type": "stream",
          "name": "stdout",
          "text": [
            "4\n"
          ]
        }
      ]
    },
    {
      "cell_type": "markdown",
      "source": [
        "vii)WAP to sum all elements in L"
      ],
      "metadata": {
        "id": "4u0CYVntXzjL"
      }
    },
    {
      "cell_type": "code",
      "source": [
        "L = [11,12,13,14]\n",
        "sum = 0\n",
        "for i in L:\n",
        "  sum = sum+i\n",
        "print(sum)"
      ],
      "metadata": {
        "colab": {
          "base_uri": "https://localhost:8080/"
        },
        "id": "1-WvSb8AcKvT",
        "outputId": "c1c38624-b723-40e3-ace8-6789b89c4fcf"
      },
      "execution_count": null,
      "outputs": [
        {
          "output_type": "stream",
          "name": "stdout",
          "text": [
            "50\n"
          ]
        }
      ]
    },
    {
      "cell_type": "markdown",
      "source": [
        "viii) WAP to sum all ODD elements in L"
      ],
      "metadata": {
        "id": "o_z8wEy_dQc-"
      }
    },
    {
      "cell_type": "code",
      "source": [
        "L = [11,12,13,14]\n",
        "sum = 0\n",
        "for i in L:\n",
        "  if i%2!=0:\n",
        "    sum = sum+i\n",
        "print(sum)"
      ],
      "metadata": {
        "colab": {
          "base_uri": "https://localhost:8080/"
        },
        "id": "9oD45n-6eH6E",
        "outputId": "11dd60ce-af06-45aa-d659-314fbffdee08"
      },
      "execution_count": null,
      "outputs": [
        {
          "output_type": "stream",
          "name": "stdout",
          "text": [
            "24\n"
          ]
        }
      ]
    },
    {
      "cell_type": "markdown",
      "source": [
        "ix) WAP to sum all EVEN elements in L"
      ],
      "metadata": {
        "id": "vlMVzJdheQbB"
      }
    },
    {
      "cell_type": "code",
      "source": [
        "L = [11,12,13,14]\n",
        "sum = 0\n",
        "for i in L:\n",
        "  if i%2==0:\n",
        "    sum = sum+i\n",
        "print(sum)"
      ],
      "metadata": {
        "colab": {
          "base_uri": "https://localhost:8080/"
        },
        "id": "GpP6sKECeVtT",
        "outputId": "695e61df-571f-4bb9-d782-6999d19aa46d"
      },
      "execution_count": null,
      "outputs": [
        {
          "output_type": "stream",
          "name": "stdout",
          "text": [
            "26\n"
          ]
        }
      ]
    },
    {
      "cell_type": "markdown",
      "source": [
        "x) WAP to sum all PRIME elements in L"
      ],
      "metadata": {
        "id": "8TQVQrFKeajl"
      }
    },
    {
      "cell_type": "code",
      "source": [
        "L = [11,12,13,14]\n",
        "sum = 0\n",
        "for i in range(0,len(L)):\n",
        "  for n in range(2,L[i]):\n",
        "    if L[i]%n==0:\n",
        "      break\n",
        "  else:\n",
        "    sum += L[i]\n",
        "print(sum)"
      ],
      "metadata": {
        "colab": {
          "base_uri": "https://localhost:8080/"
        },
        "id": "LHqiKml0eea4",
        "outputId": "8c97b8ac-7de7-4a0b-9bda-fec5d3503b2a"
      },
      "execution_count": null,
      "outputs": [
        {
          "output_type": "stream",
          "name": "stdout",
          "text": [
            "11\n"
          ]
        }
      ]
    },
    {
      "cell_type": "markdown",
      "source": [
        "xi)WAP to clear all elements in L"
      ],
      "metadata": {
        "id": "eph5O16PgIUc"
      }
    },
    {
      "cell_type": "code",
      "source": [
        "L = [11,12,13,14]\n",
        "L.clear()\n",
        "print(L)"
      ],
      "metadata": {
        "colab": {
          "base_uri": "https://localhost:8080/"
        },
        "id": "v0QQ9pqNgNmI",
        "outputId": "20497e89-557d-4d8d-d864-d81c80739b7f"
      },
      "execution_count": null,
      "outputs": [
        {
          "output_type": "stream",
          "name": "stdout",
          "text": [
            "[]\n"
          ]
        }
      ]
    },
    {
      "cell_type": "markdown",
      "source": [
        "xii)WAP to delete L"
      ],
      "metadata": {
        "id": "qs5j1-zHgRde"
      }
    },
    {
      "cell_type": "code",
      "source": [
        "L = [11,12,13,14]\n",
        "L.del()\n",
        "print(L) #will show error as L no longer exists"
      ],
      "metadata": {
        "colab": {
          "base_uri": "https://localhost:8080/",
          "height": 106
        },
        "id": "6SGSIfkqgXiM",
        "outputId": "c7167584-076a-4fc6-f208-ad6bb66bb0ae"
      },
      "execution_count": null,
      "outputs": [
        {
          "output_type": "error",
          "ename": "SyntaxError",
          "evalue": "invalid syntax (<ipython-input-41-2636912194>, line 2)",
          "traceback": [
            "\u001b[0;36m  File \u001b[0;32m\"<ipython-input-41-2636912194>\"\u001b[0;36m, line \u001b[0;32m2\u001b[0m\n\u001b[0;31m    L.del()\u001b[0m\n\u001b[0m      ^\u001b[0m\n\u001b[0;31mSyntaxError\u001b[0m\u001b[0;31m:\u001b[0m invalid syntax\n"
          ]
        }
      ]
    },
    {
      "cell_type": "markdown",
      "source": [
        "# **Q2) Q2. D is a dictionary defined as D= {1:5.6, 2:7.8, 3:6.6, 4:8.7, 5:7.7}**"
      ],
      "metadata": {
        "id": "3H4RVaTPgr-W"
      }
    },
    {
      "cell_type": "markdown",
      "source": [
        "i) WAP to add new entry in D; key=8 and value is 8.8\n"
      ],
      "metadata": {
        "id": "dFU_JY17hBok"
      }
    },
    {
      "cell_type": "code",
      "source": [
        "D= {1:5.6, 2:7.8, 3:6.6, 4:8.7, 5:7.7}\n",
        "D[8] = 8.8\n",
        "print(D)"
      ],
      "metadata": {
        "colab": {
          "base_uri": "https://localhost:8080/"
        },
        "id": "xjJvSguihBRU",
        "outputId": "537e8c15-aeb8-4af6-9049-1d31ab90cc34"
      },
      "execution_count": null,
      "outputs": [
        {
          "output_type": "stream",
          "name": "stdout",
          "text": [
            "{1: 5.6, 2: 7.8, 3: 6.6, 4: 8.7, 5: 7.7, 8: 8.8}\n"
          ]
        }
      ]
    },
    {
      "cell_type": "markdown",
      "source": [
        "ii) WAP to remove key=2"
      ],
      "metadata": {
        "id": "qXszr-iFhxWs"
      }
    },
    {
      "cell_type": "code",
      "source": [
        "D= {1:5.6, 2:7.8, 3:6.6, 4:8.7, 5:7.7}\n",
        "del D[2]\n",
        "print(D)"
      ],
      "metadata": {
        "colab": {
          "base_uri": "https://localhost:8080/"
        },
        "id": "Ue80Lox5h1Gy",
        "outputId": "38e2940f-e828-487a-ea8f-3bc0a9bb7ffc"
      },
      "execution_count": null,
      "outputs": [
        {
          "output_type": "stream",
          "name": "stdout",
          "text": [
            "{1: 5.6, 3: 6.6, 4: 8.7, 5: 7.7}\n"
          ]
        }
      ]
    },
    {
      "cell_type": "markdown",
      "source": [
        "iii) WAP to check weather 6 key is present in D."
      ],
      "metadata": {
        "id": "ugRumQerh7Bc"
      }
    },
    {
      "cell_type": "code",
      "source": [
        "D= {1:5.6, 2:7.8, 3:6.6, 4:8.7, 5:7.7}\n",
        "if i in D == 6:\n",
        "  print(\"present\")\n",
        "else:\n",
        "  print(\"absent\")\n"
      ],
      "metadata": {
        "colab": {
          "base_uri": "https://localhost:8080/"
        },
        "id": "SnMfmbAxiLx3",
        "outputId": "3402d1e2-d01e-4ecf-ff56-d5411d566347"
      },
      "execution_count": null,
      "outputs": [
        {
          "output_type": "stream",
          "name": "stdout",
          "text": [
            "absent\n"
          ]
        }
      ]
    },
    {
      "cell_type": "markdown",
      "source": [
        "iv) WAP to count the number of elements present in D."
      ],
      "metadata": {
        "id": "HOPTvDHjiYbb"
      }
    },
    {
      "cell_type": "code",
      "source": [
        "D= {1:5.6, 2:7.8, 3:6.6, 4:8.7, 5:7.7}\n",
        "print(len(D))"
      ],
      "metadata": {
        "colab": {
          "base_uri": "https://localhost:8080/"
        },
        "id": "c_BVtn5riePB",
        "outputId": "004c56de-95ba-40cf-a9c0-b1800fa7a188"
      },
      "execution_count": null,
      "outputs": [
        {
          "output_type": "stream",
          "name": "stdout",
          "text": [
            "5\n"
          ]
        }
      ]
    },
    {
      "cell_type": "markdown",
      "source": [
        "v) WAP to add all the values present D."
      ],
      "metadata": {
        "id": "AMkS9Dr9ilTN"
      }
    },
    {
      "cell_type": "code",
      "source": [
        "D= {1:5.6, 2:7.8, 3:6.6, 4:8.7, 5:7.7}\n",
        "sum = 0\n",
        "for i in D.values():\n",
        "  sum += i\n",
        "print(sum)"
      ],
      "metadata": {
        "colab": {
          "base_uri": "https://localhost:8080/"
        },
        "id": "vbK_l92iinl1",
        "outputId": "2010251a-2dc2-43c7-b8d5-8e9d6f057264"
      },
      "execution_count": null,
      "outputs": [
        {
          "output_type": "stream",
          "name": "stdout",
          "text": [
            "36.4\n"
          ]
        }
      ]
    },
    {
      "cell_type": "markdown",
      "source": [
        "vi) WAP to update the value of 3 to 7.1."
      ],
      "metadata": {
        "id": "v-HHR2-skL1p"
      }
    },
    {
      "cell_type": "code",
      "source": [
        "D= {1:5.6, 2:7.8, 3:6.6, 4:8.7, 5:7.7}\n",
        "D[3] = 7.1\n",
        "print(D)"
      ],
      "metadata": {
        "colab": {
          "base_uri": "https://localhost:8080/"
        },
        "id": "5s7IHwH1kNB6",
        "outputId": "d33f7203-1bf0-40c4-b4de-3a8fb9471838"
      },
      "execution_count": null,
      "outputs": [
        {
          "output_type": "stream",
          "name": "stdout",
          "text": [
            "{1: 5.6, 2: 7.8, 3: 7.1, 4: 8.7, 5: 7.7}\n"
          ]
        }
      ]
    },
    {
      "cell_type": "markdown",
      "source": [
        "vii) WAP to clear the dictionary."
      ],
      "metadata": {
        "id": "SNyHNvI3kui-"
      }
    },
    {
      "cell_type": "code",
      "source": [
        "D= {1:5.6, 2:7.8, 3:6.6, 4:8.7, 5:7.7}\n",
        "D.clear()\n",
        "print(D)"
      ],
      "metadata": {
        "colab": {
          "base_uri": "https://localhost:8080/"
        },
        "id": "cyX3h3kzkyEq",
        "outputId": "6c838a3e-24ac-4dde-fac8-88226a9c962c"
      },
      "execution_count": null,
      "outputs": [
        {
          "output_type": "stream",
          "name": "stdout",
          "text": [
            "{}\n"
          ]
        }
      ]
    },
    {
      "cell_type": "markdown",
      "source": [
        "# **Q3. S1 is a set defined as S1= [10, 20, 30, 40, 50, 60]. S2 is a set defined as S2= [40, 50, 60, 70, 80, 90].**\n"
      ],
      "metadata": {
        "id": "qm8uTS58ld2A"
      }
    },
    {
      "cell_type": "markdown",
      "source": [
        "(i)WAP to add 55 and 66 in Set S1."
      ],
      "metadata": {
        "id": "GNZlI1Jnlq6N"
      }
    },
    {
      "cell_type": "code",
      "source": [
        "S1= [10, 20, 30, 40, 50, 60]\n",
        "S2= [40, 50, 60, 70, 80, 90]\n",
        "S1.append(55)\n",
        "S1.append(66)\n",
        "print(S1)"
      ],
      "metadata": {
        "colab": {
          "base_uri": "https://localhost:8080/"
        },
        "id": "WATh19aMluSN",
        "outputId": "fc19c77e-32ee-4e64-fe58-ca976b7b1e0f"
      },
      "execution_count": null,
      "outputs": [
        {
          "output_type": "stream",
          "name": "stdout",
          "text": [
            "[10, 20, 30, 40, 50, 60, 55, 66]\n"
          ]
        }
      ]
    },
    {
      "cell_type": "markdown",
      "source": [
        "ii) WAP to remove 10 and 30 from Set S1.\n"
      ],
      "metadata": {
        "id": "eyStMKzomCcr"
      }
    },
    {
      "cell_type": "code",
      "source": [
        "S1= [10, 20, 30, 40, 50, 60]\n",
        "S2= [40, 50, 60, 70, 80, 90]\n",
        "S1.remove(10)\n",
        "S1.remove(30)\n",
        "print(S1)"
      ],
      "metadata": {
        "colab": {
          "base_uri": "https://localhost:8080/"
        },
        "id": "ma-Bolg7mEJL",
        "outputId": "d5aa3418-2493-4a26-e50d-5e8837b9d21b"
      },
      "execution_count": null,
      "outputs": [
        {
          "output_type": "stream",
          "name": "stdout",
          "text": [
            "[20, 40, 50, 60]\n"
          ]
        }
      ]
    },
    {
      "cell_type": "markdown",
      "source": [
        "iii) WAP to check whether 40 is present in S1"
      ],
      "metadata": {
        "id": "kRvoYAuHyElo"
      }
    },
    {
      "cell_type": "code",
      "source": [
        "S1= set([10, 20, 30, 40, 50, 60])\n",
        "S2= set([40, 50, 60, 70, 80, 90])\n",
        "if i in S1 ==40:\n",
        "  print(\"present\")\n",
        "else:\n",
        "  print(\"absent\")"
      ],
      "metadata": {
        "id": "64hdDcKlyFjJ"
      },
      "execution_count": null,
      "outputs": []
    },
    {
      "cell_type": "markdown",
      "source": [
        "iv) WAP to find the union between S1 and S2"
      ],
      "metadata": {
        "id": "pwnkTTkiyILS"
      }
    },
    {
      "cell_type": "code",
      "source": [
        "S1= set([10, 20, 30, 40, 50, 60])\n",
        "S2= set([40, 50, 60, 70, 80, 90])\n",
        "print(S1.union(S2))"
      ],
      "metadata": {
        "colab": {
          "base_uri": "https://localhost:8080/"
        },
        "id": "ZGPXAiQnyJsu",
        "outputId": "af445781-fe30-48fe-854c-5e36956493ad"
      },
      "execution_count": null,
      "outputs": [
        {
          "output_type": "stream",
          "name": "stdout",
          "text": [
            "{70, 40, 10, 80, 50, 20, 90, 60, 30}\n"
          ]
        }
      ]
    },
    {
      "cell_type": "markdown",
      "source": [
        "v) WAP to find the intersection between S1 and S2"
      ],
      "metadata": {
        "id": "P-qx50bHyKOn"
      }
    },
    {
      "cell_type": "code",
      "source": [
        "S1= set([10, 20, 30, 40, 50, 60])\n",
        "S2= set([40, 50, 60, 70, 80, 90])\n",
        "print(S1.intersection(S2))"
      ],
      "metadata": {
        "colab": {
          "base_uri": "https://localhost:8080/"
        },
        "id": "UeY1U_FuyM3d",
        "outputId": "08170ed4-f06f-46f4-cdb3-2608cde6b73e"
      },
      "execution_count": null,
      "outputs": [
        {
          "output_type": "stream",
          "name": "stdout",
          "text": [
            "{40, 50, 60}\n"
          ]
        }
      ]
    },
    {
      "cell_type": "markdown",
      "source": [
        "vi) WAP to find the S1-S2."
      ],
      "metadata": {
        "id": "s1qCKcKGzqLP"
      }
    },
    {
      "cell_type": "code",
      "source": [
        "S1= set([10, 20, 30, 40, 50, 60])\n",
        "S2= set([40, 50, 60, 70, 80, 90])\n",
        "print(S1-S2)"
      ],
      "metadata": {
        "id": "vIm4osEr1Bz0",
        "outputId": "a8e13551-b166-4ecb-c34e-4a944600ada4",
        "colab": {
          "base_uri": "https://localhost:8080/"
        }
      },
      "execution_count": null,
      "outputs": [
        {
          "output_type": "stream",
          "name": "stdout",
          "text": [
            "{10, 20, 30}\n"
          ]
        }
      ]
    },
    {
      "cell_type": "markdown",
      "source": [
        "# **Q4. Write the following program.**"
      ],
      "metadata": {
        "id": "tc7CdRY19koX"
      }
    },
    {
      "cell_type": "markdown",
      "source": [
        "i)\n",
        "WAP to print 100 random strings whose length between 6 and 8."
      ],
      "metadata": {
        "id": "fgJYOZss--y0"
      }
    },
    {
      "cell_type": "code",
      "source": [
        "import string as s\n",
        "import random as r\n",
        "for _ in range(100):\n",
        "    length = r.randint(6, 8)  # Random length between 6 and 8\n",
        "    random_string = ''.join(r.choices(s.ascii_letters + s.digits, k=length))\n",
        "    print(random_string)"
      ],
      "metadata": {
        "colab": {
          "base_uri": "https://localhost:8080/"
        },
        "id": "MT1s-9-K_VPF",
        "outputId": "ddb98f2a-c7c7-485d-ad04-8eb8d48d7f04"
      },
      "execution_count": null,
      "outputs": [
        {
          "output_type": "stream",
          "name": "stdout",
          "text": [
            "V2f6CWg\n",
            "8tzdksZ\n",
            "bnMYYzi0\n",
            "1QM8v3\n",
            "bJPSaf\n",
            "6kFO0PL\n",
            "VqWqSi1\n",
            "vMujLt0\n",
            "6XOTe65\n",
            "W1y5YuE\n",
            "ZF8L1v\n",
            "nHsjknCL\n",
            "wI8FBVJ\n",
            "0daClnDw\n",
            "XHznh3T\n",
            "WdyNYe\n",
            "GRsyb7Gv\n",
            "DsjJ8Y\n",
            "z6GGRSe\n",
            "vNixU7e0\n",
            "QNH8CPhW\n",
            "GH13Kc3\n",
            "6uFfOuxB\n",
            "rRRFLTUB\n",
            "QQbnHReF\n",
            "6nCBWtOJ\n",
            "K4qQkgo\n",
            "4oCvys\n",
            "uu92NzG\n",
            "3mhihDM6\n",
            "ULa7wlwK\n",
            "60eFoQb\n",
            "m1SpgJy\n",
            "JvlLuR3\n",
            "KMDoAIq\n",
            "ZAObIe\n",
            "MFu0Ax\n",
            "z7vuX3\n",
            "HzwzLMjV\n",
            "Thtti5\n",
            "wNRBItu\n",
            "MFpulUfE\n",
            "xVcgfyGY\n",
            "D5umGz\n",
            "NygYAv\n",
            "n0y3rZV\n",
            "Pl5pN41\n",
            "JCIuTpi\n",
            "e8YtAhJ\n",
            "6YOjEVr\n",
            "2qq2Lpo\n",
            "PvPb7R\n",
            "lZrg76Y\n",
            "j1JSJR\n",
            "o8B1qR\n",
            "7aWokvI\n",
            "utSAPlj\n",
            "6rdQSmF\n",
            "zy7dFBG0\n",
            "4dt6YP\n",
            "WA041hKe\n",
            "sAwcFc9q\n",
            "3pKiyoE\n",
            "eVFbbF86\n",
            "Att05BP\n",
            "lIpR7X5\n",
            "ArZn3E\n",
            "eUJOAT\n",
            "kN2ftK2\n",
            "Qs0Ked\n",
            "LwNhxUe\n",
            "WKjvjd\n",
            "c7QCeG\n",
            "nxaGPer0\n",
            "Np07Ck1s\n",
            "UlAXv7o3\n",
            "fEzePy\n",
            "wyRENH\n",
            "2iFlqW9\n",
            "TzVfwc\n",
            "bPwNEKOG\n",
            "qrySnu63\n",
            "bwpW8xn\n",
            "kMBytzs0\n",
            "XiqJvBuO\n",
            "gSxGVy\n",
            "3XYoaA\n",
            "y65ogh\n",
            "yOAgX5p\n",
            "AvyykS\n",
            "JYQQKE\n",
            "PfVoua0\n",
            "mfGP0Ya\n",
            "sMPiVX\n",
            "bgdGQ9\n",
            "c3mDMTDK\n",
            "Sq66VMGK\n",
            "rGK0y1\n",
            "wGKfD0Ib\n",
            "UtBbVtWh\n"
          ]
        }
      ]
    },
    {
      "cell_type": "markdown",
      "source": [
        "ii) WAP to print all prime numbers between 600 and 800."
      ],
      "metadata": {
        "id": "XGENjRkg_AAv"
      }
    },
    {
      "cell_type": "code",
      "source": [
        "for i in range(600,800):\n",
        "    for n in range(2,i):\n",
        "      if i%n==0:\n",
        "        break\n",
        "    else:\n",
        "      print(i)"
      ],
      "metadata": {
        "colab": {
          "base_uri": "https://localhost:8080/"
        },
        "id": "iE-VNtnrB2GV",
        "outputId": "18c20df9-7855-4aac-b6da-9e11e080b561"
      },
      "execution_count": null,
      "outputs": [
        {
          "output_type": "stream",
          "name": "stdout",
          "text": [
            "601\n",
            "607\n",
            "613\n",
            "617\n",
            "619\n",
            "631\n",
            "641\n",
            "643\n",
            "647\n",
            "653\n",
            "659\n",
            "661\n",
            "673\n",
            "677\n",
            "683\n",
            "691\n",
            "701\n",
            "709\n",
            "719\n",
            "727\n",
            "733\n",
            "739\n",
            "743\n",
            "751\n",
            "757\n",
            "761\n",
            "769\n",
            "773\n",
            "787\n",
            "797\n"
          ]
        }
      ]
    },
    {
      "cell_type": "markdown",
      "source": [
        "iii) WAP to print all numbers between 100 and 1000 that are divisible by 7 and 9."
      ],
      "metadata": {
        "id": "7vfUQ3mN_AM-"
      }
    },
    {
      "cell_type": "code",
      "source": [
        "for i in range(100,1000):\n",
        "    n=7\n",
        "    m=9\n",
        "    if i%n==0 and i%m==0:\n",
        "      print(i)\n",
        "    else:\n",
        "      continue"
      ],
      "metadata": {
        "colab": {
          "base_uri": "https://localhost:8080/"
        },
        "id": "hDhSIfPkCLPX",
        "outputId": "228fd875-07a3-486c-a8b0-06f0d00c80ab"
      },
      "execution_count": null,
      "outputs": [
        {
          "output_type": "stream",
          "name": "stdout",
          "text": [
            "126\n",
            "189\n",
            "252\n",
            "315\n",
            "378\n",
            "441\n",
            "504\n",
            "567\n",
            "630\n",
            "693\n",
            "756\n",
            "819\n",
            "882\n",
            "945\n"
          ]
        }
      ]
    },
    {
      "cell_type": "markdown",
      "source": [
        "# **Q5. WAP to create two lists of 10 random numbers between 10 and 30; Find**"
      ],
      "metadata": {
        "id": "wZE1qIb0_AWs"
      }
    },
    {
      "cell_type": "markdown",
      "source": [
        "i)\n",
        "Common numbers in the two lists"
      ],
      "metadata": {
        "id": "hBAr7XYQD884"
      }
    },
    {
      "cell_type": "code",
      "source": [
        "import random\n",
        "\n",
        "list1 = [random.randint(10, 30) for _ in range(10)]\n",
        "list2 = [random.randint(10, 30) for _ in range(10)]\n",
        "\n",
        "print(\"List 1:\", list1)\n",
        "print(\"List 2:\", list2)\n",
        "\n",
        "common_numbers = list(set(list1) & set(list2))\n",
        "\n",
        "print(\"Common Numbers:\", common_numbers)"
      ],
      "metadata": {
        "id": "QCqHt0ZmD0nV"
      },
      "execution_count": null,
      "outputs": []
    },
    {
      "cell_type": "markdown",
      "source": [
        "ii) Unique numbers in both the list"
      ],
      "metadata": {
        "id": "4-a8CQ1mJEs2"
      }
    },
    {
      "cell_type": "code",
      "source": [
        "import random\n",
        "\n",
        "list1 = [random.randint(10, 30) for _ in range(10)]\n",
        "list2 = [random.randint(10, 30) for _ in range(10)]\n",
        "\n",
        "print(\"List 1:\", list1)\n",
        "print(\"List 2:\", list2)\n",
        "\n",
        "u = set(list1).union(set(list2))\n",
        "\n",
        "print(\"Union:\", u)"
      ],
      "metadata": {
        "colab": {
          "base_uri": "https://localhost:8080/"
        },
        "id": "_PNatDzwJO79",
        "outputId": "dc08cae8-ed39-4a63-ce95-63250f28393b"
      },
      "execution_count": null,
      "outputs": [
        {
          "output_type": "stream",
          "name": "stdout",
          "text": [
            "1 [20, 29, 13, 15, 14, 10, 24, 29, 17, 19]\n",
            "2 [28, 21, 26, 28, 20, 16, 16, 21, 24, 14]\n",
            "Union: {10, 13, 14, 15, 16, 17, 19, 20, 21, 24, 26, 28, 29}\n"
          ]
        }
      ]
    },
    {
      "cell_type": "markdown",
      "source": [
        "iii) Minimum in both the list"
      ],
      "metadata": {
        "id": "_QrK2KeVK3w3"
      }
    },
    {
      "cell_type": "code",
      "source": [
        "import random\n",
        "\n",
        "list1 = [random.randint(10, 30) for _ in range(10)]\n",
        "list2 = [random.randint(10, 30) for _ in range(10)]\n",
        "\n",
        "print(\"List 1:\", list1)\n",
        "print(\"List 2:\", list2)\n",
        "\n",
        "m = min(list1)\n",
        "m2 = min(list2)\n",
        "\n",
        "print(m,m2)"
      ],
      "metadata": {
        "colab": {
          "base_uri": "https://localhost:8080/"
        },
        "id": "f4q2DCxHK8qg",
        "outputId": "35bf4b07-685c-44d5-ff4f-f857f25d2443"
      },
      "execution_count": null,
      "outputs": [
        {
          "output_type": "stream",
          "name": "stdout",
          "text": [
            "List 1: [25, 14, 19, 21, 25, 24, 22, 25, 11, 20]\n",
            "List 2: [28, 19, 25, 26, 11, 17, 10, 12, 27, 30]\n",
            "11 10\n"
          ]
        }
      ]
    },
    {
      "cell_type": "markdown",
      "source": [
        "iv) Maximum in both the list\n"
      ],
      "metadata": {
        "id": "iEos5KexNdiq"
      }
    },
    {
      "cell_type": "code",
      "source": [
        "import random\n",
        "\n",
        "list1 = [random.randint(10, 30) for _ in range(10)]\n",
        "list2 = [random.randint(10, 30) for _ in range(10)]\n",
        "\n",
        "print(\"List 1:\", list1)\n",
        "print(\"List 2:\", list2)\n",
        "\n",
        "m = max(list1)\n",
        "m2 = max(list2)\n",
        "\n",
        "print(m,m2)"
      ],
      "metadata": {
        "colab": {
          "base_uri": "https://localhost:8080/"
        },
        "id": "_YyB8PO9NlvB",
        "outputId": "52f09bf1-674c-49e8-ff3f-3a6824d2a04a"
      },
      "execution_count": null,
      "outputs": [
        {
          "output_type": "stream",
          "name": "stdout",
          "text": [
            "List 1: [22, 22, 14, 21, 29, 27, 25, 18, 18, 27]\n",
            "List 2: [11, 10, 18, 21, 23, 22, 26, 15, 11, 21]\n",
            "29 26\n"
          ]
        }
      ]
    },
    {
      "cell_type": "markdown",
      "source": [
        "v) Sum of both the lists"
      ],
      "metadata": {
        "id": "eXjbokgDNrRi"
      }
    },
    {
      "cell_type": "code",
      "source": [
        "import random\n",
        "\n",
        "list1 = [random.randint(10, 30) for _ in range(10)]\n",
        "list2 = [random.randint(10, 30) for _ in range(10)]\n",
        "\n",
        "print(\"List 1:\", list1)\n",
        "print(\"List 2:\", list2)\n",
        "\n",
        "print(list1 + list2)"
      ],
      "metadata": {
        "colab": {
          "base_uri": "https://localhost:8080/"
        },
        "id": "ncMC-449NxUX",
        "outputId": "a3cd3b3a-2440-4a93-ef42-693293b1ed62"
      },
      "execution_count": null,
      "outputs": [
        {
          "output_type": "stream",
          "name": "stdout",
          "text": [
            "List 1: [10, 16, 30, 21, 29, 18, 24, 10, 23, 22]\n",
            "List 2: [16, 18, 10, 11, 25, 13, 29, 26, 11, 29]\n",
            "[10, 16, 30, 21, 29, 18, 24, 10, 23, 22, 16, 18, 10, 11, 25, 13, 29, 26, 11, 29]\n"
          ]
        }
      ]
    },
    {
      "cell_type": "markdown",
      "source": [
        "# **Q6. WAP to create a list of 100 random numbers between 100 and 900. Count and print the:**"
      ],
      "metadata": {
        "id": "zjJ6S9d7PRfC"
      }
    },
    {
      "cell_type": "markdown",
      "source": [
        "i) All odd numbers\n"
      ],
      "metadata": {
        "id": "xdBOm5cYPf6V"
      }
    },
    {
      "cell_type": "code",
      "source": [
        "import random as r\n",
        "n = 0\n",
        "while (n<100):\n",
        "  l1 = r.randint(100,900)\n",
        "  if l1%2!=0:\n",
        "    print(l1)\n",
        "  else:\n",
        "    continue\n",
        "  n+=1"
      ],
      "metadata": {
        "colab": {
          "base_uri": "https://localhost:8080/"
        },
        "id": "pMc9ic8QPUCk",
        "outputId": "a15cdaa0-96f6-434c-853b-b58bbadfe238"
      },
      "execution_count": null,
      "outputs": [
        {
          "output_type": "stream",
          "name": "stdout",
          "text": [
            "255\n",
            "753\n",
            "661\n",
            "517\n",
            "215\n",
            "655\n",
            "725\n",
            "725\n",
            "141\n",
            "787\n",
            "487\n",
            "751\n",
            "363\n",
            "423\n",
            "675\n",
            "433\n",
            "647\n",
            "315\n",
            "837\n",
            "745\n",
            "543\n",
            "161\n",
            "573\n",
            "675\n",
            "305\n",
            "397\n",
            "153\n",
            "703\n",
            "277\n",
            "345\n",
            "113\n",
            "671\n",
            "357\n",
            "655\n",
            "507\n",
            "487\n",
            "795\n",
            "661\n",
            "293\n",
            "435\n",
            "865\n",
            "401\n",
            "417\n",
            "371\n",
            "789\n",
            "519\n",
            "383\n",
            "737\n",
            "509\n",
            "705\n",
            "737\n",
            "327\n",
            "837\n",
            "649\n",
            "697\n",
            "731\n",
            "727\n",
            "887\n",
            "471\n",
            "273\n",
            "855\n",
            "429\n",
            "443\n",
            "505\n",
            "269\n",
            "397\n",
            "819\n",
            "155\n",
            "659\n",
            "185\n",
            "337\n",
            "273\n",
            "653\n",
            "483\n",
            "673\n",
            "569\n",
            "447\n",
            "221\n",
            "699\n",
            "653\n",
            "483\n",
            "131\n",
            "515\n",
            "521\n",
            "575\n",
            "885\n",
            "711\n",
            "871\n",
            "381\n",
            "393\n",
            "705\n",
            "475\n",
            "345\n",
            "101\n",
            "271\n",
            "803\n",
            "329\n",
            "511\n",
            "627\n",
            "333\n",
            "583\n",
            "665\n",
            "157\n",
            "299\n",
            "129\n",
            "821\n",
            "871\n",
            "885\n",
            "293\n",
            "881\n",
            "213\n",
            "371\n",
            "241\n",
            "809\n",
            "595\n",
            "211\n",
            "595\n",
            "363\n",
            "691\n",
            "369\n",
            "107\n",
            "569\n",
            "645\n",
            "677\n",
            "525\n",
            "821\n",
            "703\n",
            "207\n",
            "675\n",
            "165\n",
            "791\n",
            "663\n",
            "479\n",
            "191\n",
            "289\n",
            "515\n",
            "673\n",
            "691\n",
            "317\n",
            "779\n",
            "653\n",
            "591\n",
            "525\n",
            "747\n",
            "499\n",
            "321\n",
            "597\n",
            "441\n",
            "875\n",
            "545\n",
            "445\n",
            "247\n",
            "247\n",
            "589\n",
            "389\n",
            "249\n",
            "557\n",
            "471\n",
            "641\n",
            "191\n",
            "463\n",
            "129\n",
            "871\n",
            "445\n",
            "739\n",
            "515\n",
            "291\n",
            "141\n",
            "651\n",
            "631\n",
            "675\n",
            "755\n",
            "331\n",
            "847\n",
            "803\n",
            "879\n",
            "559\n",
            "721\n",
            "589\n",
            "877\n",
            "547\n",
            "235\n",
            "857\n",
            "749\n",
            "121\n",
            "885\n",
            "255\n",
            "825\n",
            "759\n",
            "805\n",
            "767\n",
            "515\n",
            "221\n",
            "289\n",
            "461\n",
            "423\n",
            "137\n",
            "809\n",
            "181\n",
            "327\n",
            "475\n",
            "151\n",
            "555\n",
            "387\n",
            "159\n",
            "491\n",
            "219\n",
            "115\n",
            "553\n",
            "445\n",
            "725\n",
            "243\n",
            "527\n",
            "261\n",
            "243\n",
            "607\n",
            "227\n",
            "305\n",
            "429\n",
            "311\n",
            "359\n",
            "457\n",
            "537\n",
            "595\n",
            "603\n",
            "549\n",
            "751\n",
            "455\n",
            "791\n",
            "643\n",
            "383\n",
            "499\n",
            "573\n",
            "661\n",
            "199\n",
            "553\n",
            "249\n",
            "777\n",
            "699\n",
            "641\n",
            "317\n",
            "723\n",
            "719\n",
            "441\n",
            "687\n",
            "859\n",
            "595\n",
            "655\n",
            "229\n",
            "117\n",
            "861\n",
            "397\n",
            "639\n",
            "501\n",
            "743\n",
            "553\n",
            "723\n",
            "581\n",
            "701\n",
            "645\n",
            "187\n",
            "827\n",
            "835\n",
            "351\n",
            "317\n",
            "331\n",
            "741\n",
            "299\n",
            "175\n",
            "727\n",
            "363\n",
            "625\n",
            "893\n",
            "767\n",
            "135\n",
            "553\n",
            "427\n",
            "235\n",
            "879\n",
            "587\n",
            "711\n",
            "673\n",
            "303\n",
            "161\n",
            "499\n",
            "445\n",
            "531\n",
            "711\n",
            "813\n",
            "313\n",
            "725\n",
            "625\n",
            "711\n",
            "473\n",
            "175\n",
            "649\n",
            "821\n",
            "745\n",
            "523\n",
            "493\n",
            "769\n",
            "191\n",
            "197\n",
            "695\n",
            "573\n",
            "211\n",
            "591\n",
            "581\n",
            "807\n",
            "379\n",
            "271\n",
            "209\n",
            "337\n",
            "625\n",
            "751\n",
            "205\n",
            "883\n",
            "713\n",
            "727\n",
            "115\n",
            "565\n",
            "895\n",
            "143\n",
            "359\n",
            "257\n",
            "349\n",
            "649\n",
            "573\n",
            "479\n",
            "213\n",
            "315\n",
            "425\n",
            "461\n",
            "893\n",
            "387\n",
            "403\n",
            "633\n",
            "177\n",
            "121\n",
            "821\n",
            "251\n",
            "271\n",
            "609\n",
            "845\n",
            "139\n",
            "335\n",
            "663\n",
            "131\n",
            "725\n",
            "523\n",
            "725\n",
            "727\n",
            "523\n",
            "561\n",
            "567\n",
            "895\n",
            "753\n",
            "397\n",
            "759\n",
            "511\n",
            "237\n",
            "419\n",
            "123\n",
            "369\n",
            "699\n",
            "287\n",
            "699\n",
            "883\n",
            "493\n",
            "727\n",
            "283\n",
            "243\n",
            "447\n",
            "805\n",
            "591\n",
            "311\n",
            "593\n",
            "351\n",
            "721\n",
            "507\n",
            "499\n",
            "313\n",
            "661\n",
            "331\n",
            "525\n",
            "197\n",
            "793\n",
            "765\n",
            "769\n",
            "539\n",
            "893\n",
            "763\n",
            "469\n",
            "845\n",
            "355\n",
            "405\n",
            "259\n",
            "883\n",
            "723\n",
            "167\n",
            "677\n",
            "405\n",
            "167\n",
            "879\n",
            "381\n",
            "117\n",
            "101\n",
            "659\n",
            "723\n"
          ]
        }
      ]
    },
    {
      "cell_type": "markdown",
      "source": [
        "ii) All even numbers"
      ],
      "metadata": {
        "id": "WCxfjwv5USnN"
      }
    },
    {
      "cell_type": "code",
      "source": [
        "import random as r\n",
        "n = 0\n",
        "while (n<100):\n",
        "  l1 = r.randint(100,900)\n",
        "  if l1%2==0:\n",
        "    print(l1)\n",
        "  else:\n",
        "    continue\n",
        "  n+=1"
      ],
      "metadata": {
        "colab": {
          "base_uri": "https://localhost:8080/"
        },
        "id": "tS9fVXphUqy0",
        "outputId": "36a85c77-00db-48a2-c9c7-36fba0775970"
      },
      "execution_count": null,
      "outputs": [
        {
          "output_type": "stream",
          "name": "stdout",
          "text": [
            "562\n",
            "690\n",
            "760\n",
            "244\n",
            "280\n",
            "308\n",
            "280\n",
            "676\n",
            "776\n",
            "314\n",
            "202\n",
            "536\n",
            "574\n",
            "274\n",
            "892\n",
            "250\n",
            "878\n",
            "586\n",
            "586\n",
            "782\n",
            "274\n",
            "674\n",
            "428\n",
            "264\n",
            "704\n",
            "756\n",
            "380\n",
            "242\n",
            "574\n",
            "388\n",
            "160\n",
            "406\n",
            "416\n",
            "652\n",
            "592\n",
            "602\n",
            "802\n",
            "732\n",
            "780\n",
            "594\n",
            "816\n",
            "836\n",
            "418\n",
            "166\n",
            "274\n",
            "250\n",
            "794\n",
            "802\n",
            "100\n",
            "766\n",
            "284\n",
            "280\n",
            "796\n",
            "650\n",
            "398\n",
            "244\n",
            "444\n",
            "106\n",
            "414\n",
            "432\n",
            "688\n",
            "338\n",
            "594\n",
            "330\n",
            "384\n",
            "532\n",
            "874\n",
            "370\n",
            "178\n",
            "590\n",
            "650\n",
            "888\n",
            "880\n",
            "346\n",
            "844\n",
            "544\n",
            "346\n",
            "782\n",
            "870\n",
            "432\n",
            "234\n",
            "424\n",
            "420\n",
            "428\n",
            "768\n",
            "150\n",
            "348\n",
            "706\n",
            "448\n",
            "686\n",
            "264\n",
            "848\n",
            "300\n",
            "470\n",
            "650\n",
            "696\n",
            "506\n",
            "462\n",
            "700\n",
            "288\n"
          ]
        }
      ]
    },
    {
      "cell_type": "markdown",
      "source": [
        "iii) All prime numbers"
      ],
      "metadata": {
        "id": "Fc-ndRlXVSTL"
      }
    },
    {
      "cell_type": "code",
      "source": [
        "import random as r\n",
        "\n",
        "count = 0\n",
        "while count < 100:\n",
        "    l1 = r.randint(100, 900)\n",
        "    for n in range(2, l1):\n",
        "        if l1 % n == 0:\n",
        "            break\n",
        "    else:\n",
        "        print(l1)\n",
        "        count += 1"
      ],
      "metadata": {
        "id": "xgYVy4dwVVZ_"
      },
      "execution_count": null,
      "outputs": []
    },
    {
      "cell_type": "markdown",
      "source": [
        "# **Q7. D is a dictionary defined as D={1:\"One\",2:\"Two\",3: \"Three\",4:\"Four\", 5:\"Five\"}.WAP to read all the keys and values from dictionary and write to the file in the given below format.**\n",
        "# **Keyl, Valuel**\n",
        "#**Key2, Value2**\n",
        "#**Key3, Value3**"
      ],
      "metadata": {
        "id": "GNSnQ2nnYR5A"
      }
    },
    {
      "cell_type": "code",
      "source": [
        "D = {1: \"One\", 2: \"Two\", 3: \"Three\", 4: \"Four\", 5: \"Five\"}\n",
        "\n",
        "# Open file in write mode\n",
        "with open(\"output.txt\", \"w\") as file:\n",
        "    for key, value in D.items():\n",
        "        file.write(f\"{key}, {value}\\n\")\n",
        "\n",
        "print(\"Data written to output.txt successfully.\")\n"
      ],
      "metadata": {
        "colab": {
          "base_uri": "https://localhost:8080/"
        },
        "id": "EFdTxwFFYshn",
        "outputId": "23d8734f-1ba0-4923-bb45-6d0b80cbcea8"
      },
      "execution_count": null,
      "outputs": [
        {
          "output_type": "stream",
          "name": "stdout",
          "text": [
            "Data written to output.txt successfully.\n"
          ]
        }
      ]
    },
    {
      "cell_type": "markdown",
      "source": [
        "#**Q8. L is a list defined as L={\"One\",\"Two\",\"Three\",\"Four\",\"Five\"}.**\n",
        "# **WAP to count the length of reach element from a list and write to** **the file in the given below format:**\n",
        "#**One, 3**\n",
        "#**Two, 3**\n",
        "#**Four, 4**\n",
        "\n"
      ],
      "metadata": {
        "id": "yplEKbUAfk-R"
      }
    },
    {
      "cell_type": "code",
      "source": [
        "D = {1: \"One\", 2: \"Two\", 3: \"Three\", 4: \"Four\", 5: \"Five\"}\n",
        "\n",
        "with open(\"output.txt\", \"w\") as file:\n",
        "    for key, value in D.items():\n",
        "        file.write(f\"{key}, {value}\\n\")\n",
        "\n",
        "print(\"Dictionary written to file successfully.\")"
      ],
      "metadata": {
        "colab": {
          "base_uri": "https://localhost:8080/"
        },
        "id": "s99m6Z1Whfko",
        "outputId": "d1073ade-a475-4d61-85dd-35a37f0ba821"
      },
      "execution_count": null,
      "outputs": [
        {
          "output_type": "stream",
          "name": "stdout",
          "text": [
            "Dictionary written to file successfully.\n"
          ]
        }
      ]
    },
    {
      "cell_type": "markdown",
      "source": [
        "# **Q9. Write to the file 100 random strings whose length between 10 and 15.**"
      ],
      "metadata": {
        "id": "iEsyF-n2jaj0"
      }
    },
    {
      "cell_type": "code",
      "source": [
        "import random\n",
        "import string\n",
        "\n",
        "# Open the file in write mode\n",
        "with open(\"random_strings.txt\", \"w\") as file:\n",
        "    for _ in range(100):\n",
        "        length = random.randint(10, 15)\n",
        "        rand_str = ''.join(random.choices(string.ascii_letters + string.digits, k=length))\n",
        "        file.write(rand_str + '\\n')\n",
        "\n",
        "print(\"100 random strings written to 'random_strings.txt'.\")\n"
      ],
      "metadata": {
        "id": "kRcusduKjjGU"
      },
      "execution_count": null,
      "outputs": []
    },
    {
      "cell_type": "markdown",
      "source": [
        "# **Q10. Write to the file all prime numbers between 600 and 800.**\n"
      ],
      "metadata": {
        "id": "C5UUnxlwmqP3"
      }
    },
    {
      "cell_type": "code",
      "source": [
        "file = open(\"prime.txt\", \"w\")\n",
        "\n",
        "for num in range(600, 801):\n",
        "    if num < 2:\n",
        "        continue\n",
        "    is_prime = True\n",
        "    for i in range(2, int(num ** 0.5) + 1):\n",
        "        if num % i == 0:\n",
        "            is_prime = False\n",
        "            break\n",
        "    if is_prime:\n",
        "        file.write(str(num) + \"\\n\")\n",
        "\n",
        "file.close()\n",
        "\n",
        "print(\"Prime numbers between 600 and 800 have been written to 'prime_numbers.txt'\")\n"
      ],
      "metadata": {
        "id": "0kOT6fD8mvO3"
      },
      "execution_count": null,
      "outputs": []
    },
    {
      "cell_type": "markdown",
      "source": [
        "# **Q11 WAP to calculate time taken by a program**"
      ],
      "metadata": {
        "id": "w3CNxtKCnHyH"
      }
    },
    {
      "cell_type": "code",
      "source": [
        "import time as t\n",
        "start = t.time()\n",
        "for i in range (1,11):\n",
        "  print(i)\n",
        "end = t.time()\n",
        "print(end-start)"
      ],
      "metadata": {
        "colab": {
          "base_uri": "https://localhost:8080/"
        },
        "id": "5RWqilKqQwLH",
        "outputId": "0b73c654-e8d2-4520-8f56-d175757b8914"
      },
      "execution_count": null,
      "outputs": [
        {
          "output_type": "stream",
          "name": "stdout",
          "text": [
            "1\n",
            "2\n",
            "3\n",
            "4\n",
            "5\n",
            "6\n",
            "7\n",
            "8\n",
            "9\n",
            "10\n",
            "0.0002713203430175781\n"
          ]
        }
      ]
    },
    {
      "cell_type": "markdown",
      "source": [
        "![image.png](data:image/png;base64,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)"
      ],
      "metadata": {
        "id": "R37DTs2DeQV5"
      }
    },
    {
      "cell_type": "code",
      "source": [
        "import time as t\n",
        "import random as rad\n",
        "import seaborn as sns\n",
        "\n",
        "L1 = [rad.randint(0,25000) for _ in range(5000)]\n",
        "t11 = t.time()\n",
        "L1.sort()\n",
        "t12 = t.time()\n",
        "T1 = t12-t11\n",
        "print(f\"Time taken to sort a list of 5,000 elements: {T1} seconds\")\n",
        "\n",
        "L2 = [rad.randint(0,25000) for _ in range(10000)]\n",
        "t21 = t.time()\n",
        "L2.sort()\n",
        "t22 = t.time()\n",
        "T2 = t22-t21\n",
        "print(f\"Time taken to sort a list of 10,000 elements: {T2} seconds\")\n",
        "\n",
        "L3 = [rad.randint(0,25000) for _ in range(15000)]\n",
        "t31 = t.time()\n",
        "L3.sort()\n",
        "t32 = t.time()\n",
        "T3 = t32-t31\n",
        "print(f\"Time taken to sort a list of 15,000 elements: {T3} seconds\")\n",
        "\n",
        "L4 = [rad.randint(0,25000) for _ in range(20000)]\n",
        "t41 = t.time()\n",
        "L4.sort()\n",
        "t42 = t.time()\n",
        "T4 = t42-t41\n",
        "print(f\"Time taken to sort a list of 20,000 elements: {T4} seconds\")\n",
        "\n",
        "L5 = [rad.randint(0,25000) for _ in range(25000)]\n",
        "t51 = t.time()\n",
        "L5.sort()\n",
        "t52 = t.time()\n",
        "T5 = t52-t51\n",
        "print(f\"Time taken to sort a list of 25,000 elements: {T5} seconds\")\n",
        "\n",
        "x=[len(L1),len(L2),len(L3),len(L4),len(L5)]\n",
        "y=[T1,T2,T3,T4,T5]\n",
        "sns.lineplot(x=x,y=y)"
      ],
      "metadata": {
        "colab": {
          "base_uri": "https://localhost:8080/",
          "height": 534
        },
        "id": "3zxm3TAmeSm6",
        "outputId": "fad219c6-1ce1-4849-b0a2-25fb546907f0"
      },
      "execution_count": 1,
      "outputs": [
        {
          "output_type": "stream",
          "name": "stdout",
          "text": [
            "Time taken to sort a list of 5,000 elements: 0.0015530586242675781 seconds\n",
            "Time taken to sort a list of 10,000 elements: 0.0028717517852783203 seconds\n",
            "Time taken to sort a list of 15,000 elements: 0.004210710525512695 seconds\n",
            "Time taken to sort a list of 20,000 elements: 0.005680084228515625 seconds\n",
            "Time taken to sort a list of 25,000 elements: 0.007411479949951172 seconds\n"
          ]
        },
        {
          "output_type": "execute_result",
          "data": {
            "text/plain": [
              "<Axes: >"
            ]
          },
          "metadata": {},
          "execution_count": 1
        },
        {
          "output_type": "display_data",
          "data": {
            "text/plain": [
              "<Figure size 640x480 with 1 Axes>"
            ],
            "image/png": "[encoded data removed]"
          },
          "metadata": {}
        }
      ]
    },
    {
      "cell_type": "markdown",
      "source": [
        "# **Q13. WAP to create a dictionary of student marks in five subjects and you have to find the student having maximum and minimum average marks.**"
      ],
      "metadata": {
        "id": "qQlONh_VRoqm"
      }
    },
    {
      "cell_type": "code",
      "source": [
        "class Marks:\n",
        "    def __init__(self, maths, phy, eng, chem, ed):\n",
        "        self.maths = maths\n",
        "        self.phy = phy\n",
        "        self.eng = eng\n",
        "        self.chem = chem\n",
        "        self.ed = ed\n",
        "\n",
        "    def maths(self):\n",
        "        print(self.maths)\n",
        "\n",
        "# Creating an instance of Dog\n",
        "ram = Marks()\n",
        "print(s1.phy)"
      ],
      "metadata": {
        "colab": {
          "base_uri": "https://localhost:8080/"
        },
        "id": "IQyjDElkSSO1",
        "outputId": "cfb10d12-94bd-425c-ee8b-384a8d5d6824"
      },
      "execution_count": null,
      "outputs": [
        {
          "output_type": "stream",
          "name": "stdout",
          "text": [
            "3\n"
          ]
        }
      ]
    }
  ]
}